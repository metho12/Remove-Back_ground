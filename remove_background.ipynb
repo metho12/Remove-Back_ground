{
 "cells": [
  {
   "cell_type": "code",
   "execution_count": 20,
   "id": "9b23b225",
   "metadata": {},
   "outputs": [
    {
     "name": "stdout",
     "output_type": "stream",
     "text": [
      "Requirement already satisfied: rembg in /opt/anaconda3/lib/python3.9/site-packages (2.0.32)\n",
      "Requirement already satisfied: filetype>=1.2.0 in /opt/anaconda3/lib/python3.9/site-packages (from rembg) (1.2.0)\n",
      "Requirement already satisfied: asyncer>=0.0.2 in /opt/anaconda3/lib/python3.9/site-packages (from rembg) (0.0.2)\n",
      "Requirement already satisfied: imagehash>=4.3.1 in /opt/anaconda3/lib/python3.9/site-packages (from rembg) (4.3.1)\n",
      "Requirement already satisfied: opencv-python-headless>=4.6.0.66 in /opt/anaconda3/lib/python3.9/site-packages (from rembg) (4.7.0.72)\n",
      "Requirement already satisfied: onnxruntime>=1.13.1 in /opt/anaconda3/lib/python3.9/site-packages (from rembg) (1.14.1)\n",
      "Requirement already satisfied: pymatting>=1.1.8 in /opt/anaconda3/lib/python3.9/site-packages (from rembg) (1.1.8)\n",
      "Requirement already satisfied: python-multipart>=0.0.5 in /opt/anaconda3/lib/python3.9/site-packages (from rembg) (0.0.6)\n",
      "Requirement already satisfied: scikit-image>=0.19.3 in /opt/anaconda3/lib/python3.9/site-packages (from rembg) (0.19.3)\n",
      "Requirement already satisfied: scipy>=1.9.3 in /opt/anaconda3/lib/python3.9/site-packages (from rembg) (1.10.1)\n",
      "Requirement already satisfied: fastapi>=0.92.0 in /opt/anaconda3/lib/python3.9/site-packages (from rembg) (0.95.1)\n",
      "Requirement already satisfied: aiohttp>=3.8.1 in /opt/anaconda3/lib/python3.9/site-packages (from rembg) (3.8.1)\n",
      "Requirement already satisfied: click>=8.1.3 in /opt/anaconda3/lib/python3.9/site-packages (from rembg) (8.1.3)\n",
      "Requirement already satisfied: tqdm>=4.64.1 in /opt/anaconda3/lib/python3.9/site-packages (from rembg) (4.65.0)\n",
      "Requirement already satisfied: pillow>=9.3.0 in /opt/anaconda3/lib/python3.9/site-packages (from rembg) (9.5.0)\n",
      "Requirement already satisfied: numpy>=1.23.5 in /opt/anaconda3/lib/python3.9/site-packages (from rembg) (1.23.5)\n",
      "Requirement already satisfied: pooch>=1.6.0 in /opt/anaconda3/lib/python3.9/site-packages (from rembg) (1.7.0)\n",
      "Requirement already satisfied: uvicorn>=0.20.0 in /opt/anaconda3/lib/python3.9/site-packages (from rembg) (0.21.1)\n",
      "Requirement already satisfied: watchdog>=2.1.9 in /opt/anaconda3/lib/python3.9/site-packages (from rembg) (3.0.0)\n",
      "Requirement already satisfied: async-timeout<5.0,>=4.0.0a3 in /opt/anaconda3/lib/python3.9/site-packages (from aiohttp>=3.8.1->rembg) (4.0.1)\n",
      "Requirement already satisfied: aiosignal>=1.1.2 in /opt/anaconda3/lib/python3.9/site-packages (from aiohttp>=3.8.1->rembg) (1.2.0)\n",
      "Requirement already satisfied: attrs>=17.3.0 in /opt/anaconda3/lib/python3.9/site-packages (from aiohttp>=3.8.1->rembg) (21.4.0)\n",
      "Requirement already satisfied: frozenlist>=1.1.1 in /opt/anaconda3/lib/python3.9/site-packages (from aiohttp>=3.8.1->rembg) (1.2.0)\n",
      "Requirement already satisfied: charset-normalizer<3.0,>=2.0 in /opt/anaconda3/lib/python3.9/site-packages (from aiohttp>=3.8.1->rembg) (2.0.4)\n",
      "Requirement already satisfied: yarl<2.0,>=1.0 in /opt/anaconda3/lib/python3.9/site-packages (from aiohttp>=3.8.1->rembg) (1.6.3)\n",
      "Requirement already satisfied: multidict<7.0,>=4.5 in /opt/anaconda3/lib/python3.9/site-packages (from aiohttp>=3.8.1->rembg) (5.2.0)\n",
      "Requirement already satisfied: typing-extensions>=3.6.5 in /opt/anaconda3/lib/python3.9/site-packages (from async-timeout<5.0,>=4.0.0a3->aiohttp>=3.8.1->rembg) (4.5.0)\n",
      "Requirement already satisfied: anyio<4.0.0,>=3.4.0 in /opt/anaconda3/lib/python3.9/site-packages (from asyncer>=0.0.2->rembg) (3.5.0)\n",
      "Requirement already satisfied: idna>=2.8 in /opt/anaconda3/lib/python3.9/site-packages (from anyio<4.0.0,>=3.4.0->asyncer>=0.0.2->rembg) (3.3)\n",
      "Requirement already satisfied: sniffio>=1.1 in /opt/anaconda3/lib/python3.9/site-packages (from anyio<4.0.0,>=3.4.0->asyncer>=0.0.2->rembg) (1.2.0)\n",
      "Requirement already satisfied: pydantic!=1.7,!=1.7.1,!=1.7.2,!=1.7.3,!=1.8,!=1.8.1,<2.0.0,>=1.6.2 in /opt/anaconda3/lib/python3.9/site-packages (from fastapi>=0.92.0->rembg) (1.10.7)\n",
      "Requirement already satisfied: starlette<0.27.0,>=0.26.1 in /opt/anaconda3/lib/python3.9/site-packages (from fastapi>=0.92.0->rembg) (0.26.1)\n",
      "Requirement already satisfied: PyWavelets in /opt/anaconda3/lib/python3.9/site-packages (from imagehash>=4.3.1->rembg) (1.3.0)\n",
      "Requirement already satisfied: protobuf in /opt/anaconda3/lib/python3.9/site-packages (from onnxruntime>=1.13.1->rembg) (3.19.1)\n",
      "Requirement already satisfied: packaging in /opt/anaconda3/lib/python3.9/site-packages (from onnxruntime>=1.13.1->rembg) (21.3)\n",
      "Requirement already satisfied: flatbuffers in /opt/anaconda3/lib/python3.9/site-packages (from onnxruntime>=1.13.1->rembg) (1.12)\n",
      "Requirement already satisfied: sympy in /opt/anaconda3/lib/python3.9/site-packages (from onnxruntime>=1.13.1->rembg) (1.10.1)\n",
      "Requirement already satisfied: coloredlogs in /opt/anaconda3/lib/python3.9/site-packages (from onnxruntime>=1.13.1->rembg) (15.0.1)\n",
      "Requirement already satisfied: platformdirs>=2.5.0 in /opt/anaconda3/lib/python3.9/site-packages (from pooch>=1.6.0->rembg) (3.2.0)\n",
      "Requirement already satisfied: requests>=2.19.0 in /opt/anaconda3/lib/python3.9/site-packages (from pooch>=1.6.0->rembg) (2.27.1)\n",
      "Requirement already satisfied: pyparsing!=3.0.5,>=2.0.2 in /opt/anaconda3/lib/python3.9/site-packages (from packaging->onnxruntime>=1.13.1->rembg) (3.0.4)\n",
      "Requirement already satisfied: numba!=0.49.0 in /opt/anaconda3/lib/python3.9/site-packages (from pymatting>=1.1.8->rembg) (0.56.4)\n",
      "Requirement already satisfied: llvmlite<0.40,>=0.39.0dev0 in /opt/anaconda3/lib/python3.9/site-packages (from numba!=0.49.0->pymatting>=1.1.8->rembg) (0.39.1)\n",
      "Requirement already satisfied: setuptools in /opt/anaconda3/lib/python3.9/site-packages (from numba!=0.49.0->pymatting>=1.1.8->rembg) (61.2.0)\n",
      "Requirement already satisfied: certifi>=2017.4.17 in /opt/anaconda3/lib/python3.9/site-packages (from requests>=2.19.0->pooch>=1.6.0->rembg) (2021.10.8)\n",
      "Requirement already satisfied: urllib3<1.27,>=1.21.1 in /opt/anaconda3/lib/python3.9/site-packages (from requests>=2.19.0->pooch>=1.6.0->rembg) (1.26.9)\n",
      "Requirement already satisfied: imageio>=2.4.1 in /opt/anaconda3/lib/python3.9/site-packages (from scikit-image>=0.19.3->rembg) (2.9.0)\n",
      "Requirement already satisfied: networkx>=2.2 in /opt/anaconda3/lib/python3.9/site-packages (from scikit-image>=0.19.3->rembg) (2.7.1)\n",
      "Requirement already satisfied: tifffile>=2019.7.26 in /opt/anaconda3/lib/python3.9/site-packages (from scikit-image>=0.19.3->rembg) (2021.7.2)\n",
      "Requirement already satisfied: h11>=0.8 in /opt/anaconda3/lib/python3.9/site-packages (from uvicorn>=0.20.0->rembg) (0.14.0)\n",
      "Requirement already satisfied: humanfriendly>=9.1 in /opt/anaconda3/lib/python3.9/site-packages (from coloredlogs->onnxruntime>=1.13.1->rembg) (10.0)\n",
      "Requirement already satisfied: mpmath>=0.19 in /opt/anaconda3/lib/python3.9/site-packages (from sympy->onnxruntime>=1.13.1->rembg) (1.2.1)\n"
     ]
    }
   ],
   "source": [
    "!pip install rembg"
   ]
  },
  {
   "cell_type": "code",
   "execution_count": 21,
   "id": "37a7ad22",
   "metadata": {},
   "outputs": [],
   "source": [
    "from rembg import remove"
   ]
  },
  {
   "cell_type": "code",
   "execution_count": 22,
   "id": "21e87dfd",
   "metadata": {},
   "outputs": [],
   "source": [
    "from PIL import Image"
   ]
  },
  {
   "cell_type": "code",
   "execution_count": 37,
   "id": "73a9baec",
   "metadata": {},
   "outputs": [],
   "source": [
    "input_path = '/Users/maithaalarjani/Desktop/image_background/brain.jpeg'"
   ]
  },
  {
   "cell_type": "code",
   "execution_count": 38,
   "id": "43ac2133",
   "metadata": {},
   "outputs": [],
   "source": [
    "out_put_path = \"output.png\""
   ]
  },
  {
   "cell_type": "code",
   "execution_count": 39,
   "id": "245b36e6",
   "metadata": {},
   "outputs": [],
   "source": [
    "input = Image.open(input_path)"
   ]
  },
  {
   "cell_type": "code",
   "execution_count": 40,
   "id": "ff0b100d",
   "metadata": {},
   "outputs": [
    {
     "name": "stderr",
     "output_type": "stream",
     "text": [
      "Downloading data from 'https://github.com/danielgatis/rembg/releases/download/v0.0.0/u2net.onnx' to file '/Users/maithaalarjani/.u2net/u2net.onnx'.\n",
      "100%|████████████████████████████████████████| 176M/176M [00:00<00:00, 115GB/s]\n"
     ]
    }
   ],
   "source": [
    "output = remove(input)"
   ]
  },
  {
   "cell_type": "code",
   "execution_count": 42,
   "id": "ab9438fb",
   "metadata": {},
   "outputs": [],
   "source": [
    "output.save(out_put_path)"
   ]
  },
  {
   "cell_type": "code",
   "execution_count": null,
   "id": "9394cc75",
   "metadata": {},
   "outputs": [],
   "source": []
  }
 ],
 "metadata": {
  "kernelspec": {
   "display_name": "Python 3 (ipykernel)",
   "language": "python",
   "name": "python3"
  },
  "language_info": {
   "codemirror_mode": {
    "name": "ipython",
    "version": 3
   },
   "file_extension": ".py",
   "mimetype": "text/x-python",
   "name": "python",
   "nbconvert_exporter": "python",
   "pygments_lexer": "ipython3",
   "version": "3.9.12"
  }
 },
 "nbformat": 4,
 "nbformat_minor": 5
}
